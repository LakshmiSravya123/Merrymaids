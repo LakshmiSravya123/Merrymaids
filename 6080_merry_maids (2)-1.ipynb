{
  "nbformat": 4,
  "nbformat_minor": 0,
  "metadata": {
    "colab": {
      "name": "6080 merry maids.ipynb",
      "provenance": [],
      "collapsed_sections": []
    },
    "kernelspec": {
      "name": "python3",
      "display_name": "Python 3"
    },
    "language_info": {
      "name": "python"
    }
  },
  "cells": [
    {
      "cell_type": "code",
      "source": [
        "import pandas as pd\n",
        "df = pd.read_excel('/Active Customer Data_C-1.xlsx')"
      ],
      "metadata": {
        "id": "a__JQrAkH-Lq"
      },
      "execution_count": null,
      "outputs": []
    },
    {
      "cell_type": "code",
      "source": [
        "y=df['Customer_Type__c']\n",
        "y"
      ],
      "metadata": {
        "colab": {
          "base_uri": "https://localhost:8080/"
        },
        "id": "QXxX3mzMWcX1",
        "outputId": "9e5c0543-d251-4dc0-c13e-e80e8c30089e"
      },
      "execution_count": null,
      "outputs": [
        {
          "output_type": "execute_result",
          "data": {
            "text/plain": [
              "0        Non - Recurring\n",
              "1        Non - Recurring\n",
              "2        Non - Recurring\n",
              "3        Non - Recurring\n",
              "4        Non - Recurring\n",
              "              ...       \n",
              "90062    Non - Recurring\n",
              "90063    Non - Recurring\n",
              "90064    Non - Recurring\n",
              "90065    Non - Recurring\n",
              "90066    Non - Recurring\n",
              "Name: Customer_Type__c, Length: 90067, dtype: object"
            ]
          },
          "metadata": {},
          "execution_count": 10
        }
      ]
    },
    {
      "cell_type": "code",
      "source": [
        "\n",
        "\n",
        "df[\"BillingCountry\"].replace({\"United States\": \"US\", \"USA\": \"US\",\"Alameda\": \"US\",\"Baltimore\": \"US\",\n",
        "                              \"Dakota\": \"US\",\"Desoto\": \"US\",\"stw.apinvoices@stwcorp.com\": \"US\",\"Unites States\": \"US\",\n",
        "                              \"U.S.A.\": \"US\",\"Ontario\": \"Canada\",\"CA\": \"Canada\",\"CAN\": \"Canada\",\"Georgia\": \"Canada\",\n",
        "                              \"Mississauga\": \"Canada\",\"Lake\": \"Canada\",\"COOK\": \"US\",\"3162\": \"US\",\n",
        "                              \"4\": \"US\",\n",
        "                              \"75058\": \"US\",\"E\": \"Australia\",\"AU\": \"Australia\",\n",
        "                  \n",
        "                              }, inplace=True)\n",
        "\n",
        "df[\"BillingState\"].replace({\"Ontario.\": \"ON\"\n",
        "                              }, inplace=True)\n",
        "\n",
        "df[\"Lead_Source__c\"].replace({\"Phone Call Local.\": \"Phone\",\"Phone_Call\":\"Phone\"\n",
        "                              }, inplace=True)\n",
        "\n"
      ],
      "metadata": {
        "id": "MDdah05P55b7"
      },
      "execution_count": null,
      "outputs": []
    },
    {
      "cell_type": "code",
      "source": [
        "df.info()\n",
        "df.dtypes"
      ],
      "metadata": {
        "colab": {
          "base_uri": "https://localhost:8080/"
        },
        "id": "gns-iT3EIYVk",
        "outputId": "c66c81fb-762c-4852-d0d7-a79f04a40635"
      },
      "execution_count": null,
      "outputs": [
        {
          "output_type": "stream",
          "name": "stdout",
          "text": [
            "<class 'pandas.core.frame.DataFrame'>\n",
            "RangeIndex: 90067 entries, 0 to 90066\n",
            "Columns: 184 entries, Id to DispatchMe_Secondary_Communication__c\n",
            "dtypes: bool(25), datetime64[ns](5), float64(57), int64(14), object(83)\n",
            "memory usage: 111.4+ MB\n"
          ]
        },
        {
          "output_type": "execute_result",
          "data": {
            "text/plain": [
              "Id                                        object\n",
              "IsDeleted                                   bool\n",
              "MasterRecordId                           float64\n",
              "Type                                      object\n",
              "RecordTypeId                              object\n",
              "                                          ...   \n",
              "ReActivate_Lead__c                          bool\n",
              "Secondary_Mobile_Phone__c                 object\n",
              "Secondary_Contact__c                      object\n",
              "DispatchMe_Primary_Communication__c         bool\n",
              "DispatchMe_Secondary_Communication__c       bool\n",
              "Length: 184, dtype: object"
            ]
          },
          "metadata": {},
          "execution_count": 13
        }
      ]
    },
    {
      "cell_type": "code",
      "source": [
        "df.columns"
      ],
      "metadata": {
        "colab": {
          "base_uri": "https://localhost:8080/"
        },
        "id": "sXJ6MoEP27V3",
        "outputId": "3b9e5b02-08b0-4c5e-e8c7-bcb7b2315d4c"
      },
      "execution_count": null,
      "outputs": [
        {
          "output_type": "execute_result",
          "data": {
            "text/plain": [
              "Index(['Id', 'IsDeleted', 'MasterRecordId', 'Type', 'RecordTypeId', 'ParentId',\n",
              "       'BillingStreet', 'BillingCity', 'BillingState', 'BillingPostalCode',\n",
              "       ...\n",
              "       'DispatchMe_Notification_Reminder_Email__c',\n",
              "       'DispatchMe_Notification_Reminder_SMS__c',\n",
              "       'DispatchMe_Notification_Survey_Email__c',\n",
              "       'DispatchMe_Notification_Survey_SMS__c', 'Customer_Sort__c',\n",
              "       'ReActivate_Lead__c', 'Secondary_Mobile_Phone__c',\n",
              "       'Secondary_Contact__c', 'DispatchMe_Primary_Communication__c',\n",
              "       'DispatchMe_Secondary_Communication__c'],\n",
              "      dtype='object', length=184)"
            ]
          },
          "metadata": {},
          "execution_count": 14
        }
      ]
    },
    {
      "cell_type": "code",
      "source": [
        "import numpy as np\n",
        "from sklearn import preprocessing\n",
        "from sklearn.preprocessing import LabelEncoder\n",
        "\n",
        "from sklearn.feature_selection import SelectKBest\n",
        "from sklearn.feature_selection import chi2\n",
        "le = LabelEncoder()\n",
        "df = df[df['Customer_Type__c'].notna()]\n",
        "df1=df.loc[:,df.columns != 'Customer_Type__c']\n",
        "\n",
        "df1 = df1.apply(lambda col: le.fit_transform(col.astype(str)), axis=0, result_type='expand')\n",
        "X = df1\n",
        "#independent columns\n"
      ],
      "metadata": {
        "id": "naOFnU77GDvW"
      },
      "execution_count": null,
      "outputs": []
    },
    {
      "cell_type": "code",
      "source": [
        "y=df['Customer_Type__c']\n",
        "y.isna().sum()"
      ],
      "metadata": {
        "colab": {
          "base_uri": "https://localhost:8080/"
        },
        "id": "aWM9e7ahx-aC",
        "outputId": "887e791a-fe84-4bc3-b259-f09d5d76ce9f"
      },
      "execution_count": null,
      "outputs": [
        {
          "output_type": "execute_result",
          "data": {
            "text/plain": [
              "0"
            ]
          },
          "metadata": {},
          "execution_count": 16
        }
      ]
    },
    {
      "cell_type": "code",
      "source": [
        "#apply SelectKBest class to extract top 10 best features\n",
        "bestfeatures = SelectKBest(score_func=chi2, k=10)\n",
        "fit = bestfeatures.fit(X,y)\n",
        "dfscores = pd.DataFrame(fit.scores_)\n",
        "dfcolumns = pd.DataFrame(X.columns.values)\n",
        "\n",
        "#concat two dataframes for better visualization \n",
        "featureScores = pd.concat([dfcolumns,dfscores],axis=1)\n",
        "featureScores.columns = ['Features','Score']  #naming the dataframe columns\n",
        "topfeatures=featureScores.nlargest(25,'Score')\n",
        "print(topfeatures)  #print 20 best feature\n"
      ],
      "metadata": {
        "colab": {
          "base_uri": "https://localhost:8080/"
        },
        "id": "h4yBOa5ARkFq",
        "outputId": "5b7215db-46d0-4a24-c7aa-acf03688bc63"
      },
      "execution_count": null,
      "outputs": [
        {
          "output_type": "stream",
          "name": "stdout",
          "text": [
            "                                 Features         Score\n",
            "30                       LastModifiedDate  4.084021e+08\n",
            "32                         SystemModstamp  4.083926e+08\n",
            "70              Lead_Type_Changed_Date__c  5.118157e+07\n",
            "119                     Sales_Rep_Date__c  2.989799e+07\n",
            "61                         Gained_Date__c  2.795153e+07\n",
            "51                  Customer_ID_Number__c  2.740491e+07\n",
            "129  Last_Commissioned_Work_Order_Date__c  2.052823e+07\n",
            "167                  Last_Pricing_Date__c  1.777562e+07\n",
            "140         Cleaning_Lat_Lng__Latitude__s  1.180555e+07\n",
            "86                         Per_Quarter__c  9.026682e+06\n",
            "28                            CreatedDate  8.989710e+06\n",
            "88                       Primary_Payor__c  6.111428e+06\n",
            "0                                      Id  5.920385e+06\n",
            "169                   Eighteen_Char_Id__c  5.920385e+06\n",
            "124                          X120_Days__c  5.639382e+06\n",
            "112                Completed_Cleanings__c  5.129892e+06\n",
            "57                  Driving_Directions__c  4.647166e+06\n",
            "46                             Captain__c  4.368621e+06\n",
            "153                  Service_Agreement__c  4.316932e+06\n",
            "58                              ETL_ID__c  2.844774e+06\n",
            "80                              Mobile__c  2.701579e+06\n",
            "42               BillingPostalCode_Ext__c  2.031697e+06\n",
            "121                 Sales_Rep_End_Date__c  1.790975e+06\n",
            "90                    RIGHTNOW_CUST_ID__c  1.613484e+06\n",
            "133             Completed_House_Orders__c  1.571880e+06\n"
          ]
        }
      ]
    },
    {
      "cell_type": "code",
      "source": [
        "import matplotlib.pyplot as plt\n",
        "import seaborn as sns\n",
        "newdf=df1[topfeatures['Features']]\n",
        "newdf1=newdf\n",
        "newdf1['Customer_Type__c']=df['Customer_Type__c']\n",
        "\n",
        "corr = newdf1.corr()\n",
        "plt.figure(figsize=(12,8))\n",
        "sns.heatmap(corr, cmap=\"YlGnBu\")\n",
        "plt.show()"
      ],
      "metadata": {
        "colab": {
          "base_uri": "https://localhost:8080/",
          "height": 806
        },
        "id": "RkGXiKvIlfnt",
        "outputId": "021107cb-1233-493c-c783-0a6b8efeb13e"
      },
      "execution_count": null,
      "outputs": [
        {
          "output_type": "stream",
          "name": "stderr",
          "text": [
            "/usr/local/lib/python3.7/dist-packages/ipykernel_launcher.py:5: SettingWithCopyWarning: \n",
            "A value is trying to be set on a copy of a slice from a DataFrame.\n",
            "Try using .loc[row_indexer,col_indexer] = value instead\n",
            "\n",
            "See the caveats in the documentation: https://pandas.pydata.org/pandas-docs/stable/user_guide/indexing.html#returning-a-view-versus-a-copy\n",
            "  \"\"\"\n"
          ]
        },
        {
          "output_type": "display_data",
          "data": {
            "text/plain": [
              "<Figure size 864x576 with 2 Axes>"
            ],
            "image/png": "[encoded data removed]"
          },
          "metadata": {
            "needs_background": "light"
          }
        }
      ]
    },
    {
      "cell_type": "code",
      "source": [
        "# Datest Splitting \n",
        "from sklearn import neighbors, datasets, preprocessing\n",
        "from sklearn.model_selection import train_test_split\n",
        "from sklearn.metrics import accuracy_score\n",
        "newX = newdf.loc[ : , newdf.columns != 'Customer_Type__c'] \n",
        "newX=np.array(newX)\n",
        "X_train, X_test, y_train, y_test = train_test_split(newX, y, random_state=0)\n",
        "scaler = preprocessing.StandardScaler().fit(X_train)\n",
        "X_train = scaler.transform(X_train)\n",
        "X_test = scaler.transform(X_test)"
      ],
      "metadata": {
        "id": "OoDT3349VNqw"
      },
      "execution_count": null,
      "outputs": []
    },
    {
      "cell_type": "code",
      "source": [
        "\n",
        "from sklearn.metrics import confusion_matrix\n",
        "# import the class\n",
        "from sklearn.linear_model import LogisticRegression\n",
        "from sklearn import metrics\n",
        "\n",
        "# instantiate the model (using the default parameters)\n",
        "logreg = LogisticRegression( solver='lbfgs', max_iter=100)\n",
        "\n",
        "# fit the model with data\n",
        "logreg.fit(X_train,y_train.values.ravel())\n",
        "\n",
        "y_pred=logreg.predict(X_test)\n",
        "cnf_matrix = metrics.confusion_matrix(y_test, y_pred)\n",
        "cnf_matrix"
      ],
      "metadata": {
        "colab": {
          "base_uri": "https://localhost:8080/"
        },
        "id": "MEzeNmoFclLU",
        "outputId": "a6880ec4-120b-4f88-eee1-883404bf082a"
      },
      "execution_count": null,
      "outputs": [
        {
          "output_type": "stream",
          "name": "stderr",
          "text": [
            "/usr/local/lib/python3.7/dist-packages/sklearn/linear_model/_logistic.py:818: ConvergenceWarning: lbfgs failed to converge (status=1):\n",
            "STOP: TOTAL NO. of ITERATIONS REACHED LIMIT.\n",
            "\n",
            "Increase the number of iterations (max_iter) or scale the data as shown in:\n",
            "    https://scikit-learn.org/stable/modules/preprocessing.html\n",
            "Please also refer to the documentation for alternative solver options:\n",
            "    https://scikit-learn.org/stable/modules/linear_model.html#logistic-regression\n",
            "  extra_warning_msg=_LOGISTIC_SOLVER_CONVERGENCE_MSG,\n"
          ]
        },
        {
          "output_type": "execute_result",
          "data": {
            "text/plain": [
              "array([[ 3135,    39],\n",
              "       [   31, 19297]])"
            ]
          },
          "metadata": {},
          "execution_count": 11
        }
      ]
    },
    {
      "cell_type": "code",
      "source": [
        "print(\"Accuracy:\",metrics.accuracy_score(y_test, y_pred))\n",
        "print(\"Precision Score : \",metrics.precision_score(y_test, y_pred, \n",
        "                                           pos_label='positive',\n",
        "                                           average='micro'))\n",
        "print(\"Recall Score : \",metrics.recall_score(y_test, y_pred, \n",
        "                                           pos_label='positive',\n",
        "                                           average='micro'))"
      ],
      "metadata": {
        "colab": {
          "base_uri": "https://localhost:8080/"
        },
        "id": "Cw9aHlNLwAjX",
        "outputId": "6dd862cf-8365-4920-8bd9-30312b338cc5"
      },
      "execution_count": null,
      "outputs": [
        {
          "output_type": "stream",
          "name": "stdout",
          "text": [
            "Accuracy: 0.9968891654075194\n",
            "Precision Score :  0.9968891654075194\n"
          ]
        },
        {
          "output_type": "stream",
          "name": "stderr",
          "text": [
            "/usr/local/lib/python3.7/dist-packages/sklearn/metrics/_classification.py:1375: UserWarning: Note that pos_label (set to 'positive') is ignored when average != 'binary' (got 'micro'). You may use labels=[pos_label] to specify a single positive class.\n",
            "  UserWarning,\n"
          ]
        },
        {
          "output_type": "stream",
          "name": "stdout",
          "text": [
            "Recall Score :  0.9968891654075194\n"
          ]
        },
        {
          "output_type": "stream",
          "name": "stderr",
          "text": [
            "/usr/local/lib/python3.7/dist-packages/sklearn/metrics/_classification.py:1375: UserWarning: Note that pos_label (set to 'positive') is ignored when average != 'binary' (got 'micro'). You may use labels=[pos_label] to specify a single positive class.\n",
            "  UserWarning,\n"
          ]
        }
      ]
    },
    {
      "cell_type": "code",
      "source": [
        "from sklearn.metrics import plot_confusion_matrix\n",
        "plot_confusion_matrix(logreg, X_test, y_test) \n",
        "plt.show()\n"
      ],
      "metadata": {
        "colab": {
          "base_uri": "https://localhost:8080/",
          "height": 334
        },
        "id": "y-aFDjTFj5pf",
        "outputId": "22668324-5dc6-46f6-b474-e835479e2608"
      },
      "execution_count": null,
      "outputs": [
        {
          "output_type": "stream",
          "name": "stderr",
          "text": [
            "/usr/local/lib/python3.7/dist-packages/sklearn/utils/deprecation.py:87: FutureWarning: Function plot_confusion_matrix is deprecated; Function `plot_confusion_matrix` is deprecated in 1.0 and will be removed in 1.2. Use one of the class methods: ConfusionMatrixDisplay.from_predictions or ConfusionMatrixDisplay.from_estimator.\n",
            "  warnings.warn(msg, category=FutureWarning)\n"
          ]
        },
        {
          "output_type": "display_data",
          "data": {
            "text/plain": [
              "<Figure size 432x288 with 2 Axes>"
            ],
            "image/png": "[encoded data removed]"
          },
          "metadata": {
            "needs_background": "light"
          }
        }
      ]
    },
    {
      "cell_type": "code",
      "source": [
        "from sklearn.tree import DecisionTreeClassifier\n",
        "clf = DecisionTreeClassifier()\n",
        "\n",
        "# Train Decision Tree Classifer\n",
        "clf = clf.fit(X_train,y_train)\n",
        "\n",
        "#Predict the response for test dataset\n",
        "\n",
        "\n",
        "y_pred_Xgb=clf.predict(X_test)\n",
        "cnf_matrix_xgb = metrics.confusion_matrix(y_test, y_pred_Xgb)\n",
        "cnf_matrix_xgb"
      ],
      "metadata": {
        "colab": {
          "base_uri": "https://localhost:8080/"
        },
        "id": "DDXQkci0yTAy",
        "outputId": "2b703b9d-77ed-4350-c7f3-89bcbf8543a9"
      },
      "execution_count": null,
      "outputs": [
        {
          "output_type": "execute_result",
          "data": {
            "text/plain": [
              "array([[ 3162,    12],\n",
              "       [    9, 19319]])"
            ]
          },
          "metadata": {},
          "execution_count": 18
        }
      ]
    },
    {
      "cell_type": "code",
      "source": [
        "print(\"Accuracy XGB:\",metrics.accuracy_score(y_test, y_pred_Xgb))\n",
        "print(\"Precision Score XGB: \",metrics.precision_score(y_test, y_pred_Xgb, \n",
        "                                           pos_label='positive',\n",
        "                                           average='micro'))\n",
        "print(\"Recall Score XGB : \",metrics.recall_score(y_test, y_pred_Xgb, \n",
        "                                           pos_label='positive',\n",
        "                                           average='micro'))"
      ],
      "metadata": {
        "colab": {
          "base_uri": "https://localhost:8080/"
        },
        "id": "dYk2l7LWyvEi",
        "outputId": "eb9655b2-1870-4474-b17a-69d2ce435081"
      },
      "execution_count": null,
      "outputs": [
        {
          "output_type": "stream",
          "name": "stdout",
          "text": [
            "Accuracy XGB: 0.9990667496222558\n",
            "Precision Score XGB:  0.9990667496222558\n"
          ]
        },
        {
          "output_type": "stream",
          "name": "stderr",
          "text": [
            "/usr/local/lib/python3.7/dist-packages/sklearn/metrics/_classification.py:1375: UserWarning: Note that pos_label (set to 'positive') is ignored when average != 'binary' (got 'micro'). You may use labels=[pos_label] to specify a single positive class.\n",
            "  UserWarning,\n"
          ]
        },
        {
          "output_type": "stream",
          "name": "stdout",
          "text": [
            "Recall Score XGB :  0.9990667496222558\n"
          ]
        },
        {
          "output_type": "stream",
          "name": "stderr",
          "text": [
            "/usr/local/lib/python3.7/dist-packages/sklearn/metrics/_classification.py:1375: UserWarning: Note that pos_label (set to 'positive') is ignored when average != 'binary' (got 'micro'). You may use labels=[pos_label] to specify a single positive class.\n",
            "  UserWarning,\n"
          ]
        }
      ]
    },
    {
      "cell_type": "code",
      "source": [
        "from sklearn.metrics import plot_confusion_matrix\n",
        "plot_confusion_matrix(clf, X_test, y_test) \n",
        "plt.show()\n"
      ],
      "metadata": {
        "colab": {
          "base_uri": "https://localhost:8080/",
          "height": 334
        },
        "id": "nMQ_qRHYyvTd",
        "outputId": "3515f0cb-c71f-44c7-f8db-30d866ee8f1b"
      },
      "execution_count": null,
      "outputs": [
        {
          "output_type": "stream",
          "name": "stderr",
          "text": [
            "/usr/local/lib/python3.7/dist-packages/sklearn/utils/deprecation.py:87: FutureWarning: Function plot_confusion_matrix is deprecated; Function `plot_confusion_matrix` is deprecated in 1.0 and will be removed in 1.2. Use one of the class methods: ConfusionMatrixDisplay.from_predictions or ConfusionMatrixDisplay.from_estimator.\n",
            "  warnings.warn(msg, category=FutureWarning)\n"
          ]
        },
        {
          "output_type": "display_data",
          "data": {
            "text/plain": [
              "<Figure size 432x288 with 2 Axes>"
            ],
            "image/png": "[encoded data removed]"
          },
          "metadata": {
            "needs_background": "light"
          }
        }
      ]
    },
    {
      "cell_type": "markdown",
      "source": [
        "# Random Forest"
      ],
      "metadata": {
        "id": "6HOQRam9YYyo"
      }
    },
    {
      "cell_type": "code",
      "source": [
        "#Import Random Forest Model\n",
        "from sklearn.ensemble import RandomForestClassifier\n",
        "\n",
        "#Create a Gaussian Classifier\n",
        "clf = RandomForestClassifier(n_estimators=100)\n",
        "\n",
        "#Train the model using the training sets y_pred=clf.predict(X_test)\n",
        "clf.fit(X_train,y_train)\n",
        "\n",
        "y_pred=clf.predict(X_test)"
      ],
      "metadata": {
        "id": "ZiS08hD4YTQp"
      },
      "execution_count": null,
      "outputs": []
    },
    {
      "cell_type": "code",
      "source": [
        "y_pred_train=clf.predict(X_train)"
      ],
      "metadata": {
        "id": "-WxzVrGzZUSz"
      },
      "execution_count": null,
      "outputs": []
    },
    {
      "cell_type": "code",
      "source": [
        "from sklearn import metrics\n",
        "print(\"Train data Accuracy:\",metrics.accuracy_score(y_train, y_pred_train))\n",
        "print(\"Test data Accuracy:\",metrics.accuracy_score(y_test, y_pred))"
      ],
      "metadata": {
        "colab": {
          "base_uri": "https://localhost:8080/"
        },
        "id": "diuOqtctY60P",
        "outputId": "d9b14335-ddf6-43ea-e6e1-17173c4a7f24"
      },
      "execution_count": null,
      "outputs": [
        {
          "output_type": "stream",
          "name": "stdout",
          "text": [
            "Train data Accuracy: 1.0\n",
            "Test data Accuracy: 0.999244511598969\n"
          ]
        }
      ]
    },
    {
      "cell_type": "code",
      "source": [
        "from sklearn.metrics import plot_confusion_matrix\n",
        "plot_confusion_matrix(clf, X_test, y_test) \n",
        "\n",
        "plt.show()"
      ],
      "metadata": {
        "colab": {
          "base_uri": "https://localhost:8080/",
          "height": 333
        },
        "id": "0gNPWBSDZkNU",
        "outputId": "f53b7e41-4e61-462e-b628-43d84ff5aa61"
      },
      "execution_count": null,
      "outputs": [
        {
          "output_type": "stream",
          "name": "stderr",
          "text": [
            "/usr/local/lib/python3.7/dist-packages/sklearn/utils/deprecation.py:87: FutureWarning: Function plot_confusion_matrix is deprecated; Function `plot_confusion_matrix` is deprecated in 1.0 and will be removed in 1.2. Use one of the class methods: ConfusionMatrixDisplay.from_predictions or ConfusionMatrixDisplay.from_estimator.\n",
            "  warnings.warn(msg, category=FutureWarning)\n"
          ]
        },
        {
          "output_type": "display_data",
          "data": {
            "text/plain": [
              "<Figure size 432x288 with 2 Axes>"
            ],
            "image/png": "[encoded data removed]"
          },
          "metadata": {
            "needs_background": "light"
          }
        }
      ]
    },
    {
      "cell_type": "code",
      "source": [
        "from sklearn.metrics import classification_report\n",
        "\n",
        "print(classification_report(y_test, y_pred))"
      ],
      "metadata": {
        "colab": {
          "base_uri": "https://localhost:8080/"
        },
        "id": "zpy0kffbgqUk",
        "outputId": "66049730-d7c1-47b7-c0f2-8d7063db408d"
      },
      "execution_count": null,
      "outputs": [
        {
          "output_type": "stream",
          "name": "stdout",
          "text": [
            "                 precision    recall  f1-score   support\n",
            "\n",
            "Non - Recurring       1.00      1.00      1.00      3174\n",
            "      Recurring       1.00      1.00      1.00     19328\n",
            "\n",
            "       accuracy                           1.00     22502\n",
            "      macro avg       1.00      1.00      1.00     22502\n",
            "   weighted avg       1.00      1.00      1.00     22502\n",
            "\n"
          ]
        }
      ]
    },
    {
      "cell_type": "code",
      "source": [
        "import pandas as pd\n",
        "newX = newdf.loc[ : , newdf.columns != 'Customer_Type__c'] \n",
        "feature_imp = pd.Series(clf.feature_importances_,index=newX.columns).sort_values(ascending=False)\n",
        "feature_imp"
      ],
      "metadata": {
        "colab": {
          "base_uri": "https://localhost:8080/"
        },
        "id": "RhNUwDT9Z7Xz",
        "outputId": "3c2f76b6-8f2d-42e5-f903-181ad1191b7c"
      },
      "execution_count": null,
      "outputs": [
        {
          "output_type": "execute_result",
          "data": {
            "text/plain": [
              "Sales_Rep_End_Date__c                   0.206428\n",
              "Gained_Date__c                          0.176094\n",
              "Sales_Rep_Date__c                       0.171456\n",
              "Last_Pricing_Date__c                    0.138746\n",
              "X120_Days__c                            0.059787\n",
              "LastModifiedDate                        0.055787\n",
              "SystemModstamp                          0.054532\n",
              "Completed_Cleanings__c                  0.046283\n",
              "Last_Commissioned_Work_Order_Date__c    0.035435\n",
              "Per_Quarter__c                          0.028170\n",
              "Completed_House_Orders__c               0.007916\n",
              "Lead_Type_Changed_Date__c               0.003515\n",
              "Captain__c                              0.003320\n",
              "CreatedDate                             0.003041\n",
              "Id                                      0.003013\n",
              "Customer_ID_Number__c                   0.002892\n",
              "Eighteen_Char_Id__c                     0.000962\n",
              "Primary_Payor__c                        0.000649\n",
              "Service_Agreement__c                    0.000518\n",
              "BillingPostalCode_Ext__c                0.000467\n",
              "Cleaning_Lat_Lng__Latitude__s           0.000365\n",
              "Driving_Directions__c                   0.000215\n",
              "ETL_ID__c                               0.000199\n",
              "Mobile__c                               0.000143\n",
              "RIGHTNOW_CUST_ID__c                     0.000068\n",
              "dtype: float64"
            ]
          },
          "metadata": {},
          "execution_count": 40
        }
      ]
    },
    {
      "cell_type": "code",
      "source": [
        "# Top 10 features\n",
        "feature_imp = feature_imp[:10]"
      ],
      "metadata": {
        "id": "JwOxO-dYbJzq"
      },
      "execution_count": null,
      "outputs": []
    },
    {
      "cell_type": "code",
      "source": [
        "import matplotlib.pyplot as plt\n",
        "import seaborn as sns\n",
        "%matplotlib inline\n",
        "# Creating a bar plot\n",
        "sns.barplot(x=feature_imp, y=feature_imp.index)\n",
        "# Add labels to your graph\n",
        "plt.xlabel('Feature Importance Score')\n",
        "plt.ylabel('Features')\n",
        "plt.title(\"Visualizing Important Features\")\n",
        "plt.legend()\n",
        "plt.show()"
      ],
      "metadata": {
        "colab": {
          "base_uri": "https://localhost:8080/",
          "height": 312
        },
        "id": "Xot9BS2Oa2aG",
        "outputId": "25911c47-5b92-478a-dfeb-79bfdb43a8a2"
      },
      "execution_count": null,
      "outputs": [
        {
          "output_type": "stream",
          "name": "stderr",
          "text": [
            "No handles with labels found to put in legend.\n"
          ]
        },
        {
          "output_type": "display_data",
          "data": {
            "text/plain": [
              "<Figure size 432x288 with 1 Axes>"
            ],
            "image/png": "[encoded data removed]"
          },
          "metadata": {
            "needs_background": "light"
          }
        }
      ]
    },
    {
      "cell_type": "markdown",
      "source": [
        "#XG boost"
      ],
      "metadata": {
        "id": "8kgwRAo4d_r5"
      }
    },
    {
      "cell_type": "code",
      "source": [
        "from xgboost import XGBClassifier\n",
        "from sklearn.metrics import accuracy_score\n",
        "\n",
        "model = XGBClassifier()\n",
        "\n",
        "# fit the model with the training data\n",
        "model.fit(X_train, y_train)\n",
        "\n",
        "# predict the target on the train dataset\n",
        "predict_train = model.predict(X_train)\n",
        "predict_test = model.predict(X_test)"
      ],
      "metadata": {
        "id": "ZHaDR-Hqd8wG"
      },
      "execution_count": null,
      "outputs": []
    },
    {
      "cell_type": "code",
      "source": [
        "accuracy_train = accuracy_score(y_train, predict_train)\n",
        "print('\\naccuracy_score on train dataset : ', accuracy_train)\n",
        "\n",
        "accuracy_test = accuracy_score(y_test,predict_test)\n",
        "print('\\naccuracy_score on test dataset : ', accuracy_test)"
      ],
      "metadata": {
        "colab": {
          "base_uri": "https://localhost:8080/"
        },
        "id": "9lu0DTN-d8yf",
        "outputId": "e5f4ba3a-31c4-41de-ef7a-9ea6adf9be76"
      },
      "execution_count": null,
      "outputs": [
        {
          "output_type": "stream",
          "name": "stdout",
          "text": [
            "\n",
            "accuracy_score on train dataset :  0.9996296625485142\n",
            "\n",
            "accuracy_score on test dataset :  0.9992889520931473\n"
          ]
        }
      ]
    },
    {
      "cell_type": "code",
      "source": [
        "from sklearn.metrics import plot_confusion_matrix\n",
        "plot_confusion_matrix(model, X_test, y_test) \n",
        "plt.show()"
      ],
      "metadata": {
        "colab": {
          "base_uri": "https://localhost:8080/",
          "height": 333
        },
        "id": "4U1nbn0_e_9t",
        "outputId": "c558dc72-4bb7-43e9-b498-001f8d32209f"
      },
      "execution_count": null,
      "outputs": [
        {
          "output_type": "stream",
          "name": "stderr",
          "text": [
            "/usr/local/lib/python3.7/dist-packages/sklearn/utils/deprecation.py:87: FutureWarning: Function plot_confusion_matrix is deprecated; Function `plot_confusion_matrix` is deprecated in 1.0 and will be removed in 1.2. Use one of the class methods: ConfusionMatrixDisplay.from_predictions or ConfusionMatrixDisplay.from_estimator.\n",
            "  warnings.warn(msg, category=FutureWarning)\n"
          ]
        },
        {
          "output_type": "display_data",
          "data": {
            "text/plain": [
              "<Figure size 432x288 with 2 Axes>"
            ],
            "image/png": "[encoded data removed]"
          },
          "metadata": {
            "needs_background": "light"
          }
        }
      ]
    },
    {
      "cell_type": "code",
      "source": [
        ""
      ],
      "metadata": {
        "id": "YUB1jJpHh6dP"
      },
      "execution_count": null,
      "outputs": []
    },
    {
      "cell_type": "markdown",
      "source": [
        "https://machinelearningmastery.com/feature-selection-machine-learning-python/\n",
        "\n",
        "https://stackoverflow.com/questions/58868256/scikit-learn-label-encoder-resulting-in-error-argument-must-be-a-string-or-numb\n",
        "\n",
        "https://stackoverflow.com/questions/52269187/facing-valueerror-target-is-multiclass-but-average-binary\n",
        "\n",
        "https://www.datacamp.com/tutorial/decision-tree-classification-python\n"
      ],
      "metadata": {
        "id": "VJxPUiTpcCmO"
      }
    },
    {
      "cell_type": "code",
      "source": [
        ""
      ],
      "metadata": {
        "id": "6L0F3HinXqDh"
      },
      "execution_count": null,
      "outputs": []
    }
  ]
}